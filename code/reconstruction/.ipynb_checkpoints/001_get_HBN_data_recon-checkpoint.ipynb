{
 "cells": [
  {
   "cell_type": "code",
   "execution_count": 128,
   "id": "d24da5d5-0779-4a20-bf3e-84aa3bd664d6",
   "metadata": {},
   "outputs": [],
   "source": [
    "from pathlib import Path\n",
    "\n",
    "# Make the path object:\n",
    "cache_path = Path('/tmp/cache')\n",
    "\n",
    "# Just because we have made a cache path object doesn't mean that the directory\n",
    "# we made exists; here we check if it exists and make the directory if not.\n",
    "if not cache_path.exists():\n",
    "    cache_path.mkdir()\n"
   ]
  },
  {
   "cell_type": "code",
   "execution_count": 129,
   "id": "9b906bd0-ae97-46d4-b38b-a6ae98a75ebb",
   "metadata": {},
   "outputs": [],
   "source": [
    "from utilities import ls, crawl\n",
    "import nibabel as nib"
   ]
  },
  {
   "cell_type": "code",
   "execution_count": 130,
   "id": "7fcbf278-60f8-4328-976d-e938e4d2520c",
   "metadata": {},
   "outputs": [],
   "source": [
    "from cloudpathlib import S3Path, S3Client\n",
    "\n",
    "client = S3Client(\n",
    "    local_cache_dir=cache_path,\n",
    "    no_sign_request=True)\n",
    "\n",
    "hbn_base_path = S3Path(\n",
    "    \"s3://fcp-indi/\",\n",
    "    client=client)"
   ]
  },
  {
   "cell_type": "code",
   "execution_count": 131,
   "id": "06f5be9e-994f-4d7d-89ae-ef428105f89b",
   "metadata": {},
   "outputs": [],
   "source": [
    "# bids_path   = hbn_base_path / 'data' / 'Projects' / 'HBN' / 'MRI'/ 'Site-CUNY'\n",
    "bids_path = hbn_base_path / \"data\" / \"Projects\" / \"HBN\" / \"BIDS_curated\" \n",
    "sub_code = [\"sub-NDARAA948VFH\", \"sub-NDARAB055BPR\"]\n",
    "\n",
    "# # Quickly look if BIDSified\n",
    "# print(bids_path)\n",
    "# for sub in sub_code: \n",
    "#     sub_path = bids_path / f'{sub}'\n",
    "#     crawl(sub_path)"
   ]
  },
  {
   "cell_type": "code",
   "execution_count": 133,
   "id": "15f93f48-79ff-4a31-87f6-334d235f9578",
   "metadata": {},
   "outputs": [
    {
     "data": {
      "text/plain": [
       "'sub-NDARAA948VFH'"
      ]
     },
     "execution_count": 133,
     "metadata": {},
     "output_type": "execute_result"
    }
   ],
   "source": [
    "# Set variables on your file names\n",
    "bids_ses     = 'HBNsiteRU'\n",
    "bids_acq_anat= 'HCP'\n",
    "bids_acq_dwi = '64dir'\n",
    "\n",
    "# Choose on sub to test\n",
    "bids_sub_idx = 0 \n",
    "bids_sub     = f'{subjects[bids_sub_idx]}'\n",
    "bids_sub"
   ]
  },
  {
   "cell_type": "code",
   "execution_count": 139,
   "id": "c8d8b35b-e52c-4bc7-be0e-ff153a253790",
   "metadata": {},
   "outputs": [],
   "source": [
    "# Load T1w volume\n",
    "t1_fname = bids_path / bids_sub / f'ses-{bids_ses}' /'anat' / f'{bids_sub}_ses-{bids_ses}_acq-{bids_acq_anat}_T1w.nii.gz'\n",
    "# print(t1w_fname.exists())\n",
    "t1_nii = nib.load(t1w_fname)\n",
    "# type(t1w_fname)"
   ]
  },
  {
   "cell_type": "code",
   "execution_count": 135,
   "id": "0490fccd-9ec6-4ba3-a957-21c0d392beb7",
   "metadata": {},
   "outputs": [],
   "source": [
    "# Set dwi base-name\n",
    "# base_dwi_fname  = bids_path / bids_sub / f'ses-{bids_ses}' / 'dwi' / f'{bids_sub}_ses-{bids_ses}_acq-{bids_acq_dwi}_dwi'\n",
    "dwi_fname  = bids_path / bids_sub / f'ses-{bids_ses}' / 'dwi' / f'{bids_sub}_ses-{bids_ses}_acq-{bids_acq_dwi}_dwi.nii.gz'\n",
    "bval_fname = bids_path / bids_sub / f'ses-{bids_ses}' / 'dwi' / f'{bids_sub}_ses-{bids_ses}_acq-{bids_acq_dwi}_dwi.bval'\n",
    "bvec_fname = bids_path / bids_sub / f'ses-{bids_ses}' / 'dwi' / f'{bids_sub}_ses-{bids_ses}_acq-{bids_acq_dwi}_dwi.bvec'\n",
    "# type(dwi_fname)\n"
   ]
  },
  {
   "cell_type": "code",
   "execution_count": 136,
   "id": "263e3c87-fbb5-45e5-8e25-2227ac1de360",
   "metadata": {},
   "outputs": [],
   "source": [
    "# Load files\n",
    "dwi_nii     = nib.load(dwi_fname)\n",
    "dwi_data    = dwi_nii.get_fdata()\n",
    "dwi_hdr     = dwi_nii.header"
   ]
  },
  {
   "cell_type": "code",
   "execution_count": 137,
   "id": "038dcea4-c0fd-4398-9541-efe4be8a6089",
   "metadata": {},
   "outputs": [
    {
     "name": "stdout",
     "output_type": "stream",
     "text": [
      "T1w shape:\n",
      "(224, 320, 320)\n",
      "voxel dimensions:\n",
      "(0.7999988, 0.8, 0.8)\n"
     ]
    }
   ],
   "source": [
    "# returns T1w data size &  dimensions of each voxel\n",
    "print('T1w shape:')\n",
    "print(t1_nii.shape)\n",
    "print('voxel dimensions:')\n",
    "print(t1_nii.header.get_zooms()[:3])\n"
   ]
  },
  {
   "cell_type": "code",
   "execution_count": 138,
   "id": "51153a4d-5e13-4280-9a10-0a0e2b6570fc",
   "metadata": {},
   "outputs": [
    {
     "name": "stdout",
     "output_type": "stream",
     "text": [
      "DWI shape:\n",
      "(104, 104, 72, 129)\n",
      "voxel dimensions:\n",
      "(1.7980769, 1.7980767, 1.8000027)\n"
     ]
    }
   ],
   "source": [
    "# returns dwi data size &  dimensions of each voxel\n",
    "print('DWI shape:')\n",
    "print(dwi_nii.shape)\n",
    "print('voxel dimensions:')\n",
    "print(dwi_nii.header.get_zooms()[:3])"
   ]
  },
  {
   "cell_type": "code",
   "execution_count": 150,
   "id": "8b1cc491-6ee6-455e-9eea-4b804b183672",
   "metadata": {},
   "outputs": [
    {
     "name": "stdout",
     "output_type": "stream",
     "text": [
      "Gradients table info\n",
      "B-values shape (129,)\n",
      "         min 0.000000\n",
      "         max 2000.000000\n",
      "B-vectors shape (129, 3)\n",
      "          min -0.996103\n",
      "          max 0.999997\n",
      "\n",
      "None\n"
     ]
    }
   ],
   "source": [
    "# %% # get bvals and bvecs in a diffusion gradient table\n",
    "from dipy.io import read_bvals_bvecs\n",
    "from dipy.core.gradients import gradient_table\n",
    "\n",
    "bvals, bvecs = read_bvals_bvecs(bval_fname.fspath, bvec_fname.fspath)\n",
    "bval_fname\n",
    "    \n",
    "gtab = gradient_table(bvals, bvecs)\n",
    "\n",
    "# Take  aquick look at the gradient table info & bvals\n",
    "print('Gradients table info')\n",
    "print(gtab.info)"
   ]
  },
  {
   "cell_type": "code",
   "execution_count": 151,
   "id": "d40b66d5-6a85-4b10-b295-5ad4ab3ef694",
   "metadata": {},
   "outputs": [
    {
     "name": "stdout",
     "output_type": "stream",
     "text": [
      "\n",
      "Take a look at the gradients:\n",
      "Are these data single or multi-shell?\n",
      "B-values\n",
      "[   0. 1000. 1000. 1000. 1000. 1000. 1000. 1000. 1000. 1000. 1000. 1000.\n",
      " 1000. 1000. 1000. 1000. 1000. 1000. 1000. 1000. 1000. 1000. 1000. 1000.\n",
      " 1000. 1000. 1000. 1000. 1000. 1000. 1000. 1000. 1000. 1000. 1000. 1000.\n",
      " 1000. 1000. 1000. 1000. 1000. 1000. 1000. 1000. 1000. 1000. 1000. 1000.\n",
      " 1000. 1000. 1000. 1000. 1000. 1000. 1000. 1000. 1000. 1000. 1000. 1000.\n",
      " 1000. 1000. 1000. 1000. 1000. 2000. 2000. 2000. 2000. 2000. 2000. 2000.\n",
      " 2000. 2000. 2000. 2000. 2000. 2000. 2000. 2000. 2000. 2000. 2000. 2000.\n",
      " 2000. 2000. 2000. 2000. 2000. 2000. 2000. 2000. 2000. 2000. 2000. 2000.\n",
      " 2000. 2000. 2000. 2000. 2000. 2000. 2000. 2000. 2000. 2000. 2000. 2000.\n",
      " 2000. 2000. 2000. 2000. 2000. 2000. 2000. 2000. 2000. 2000. 2000. 2000.\n",
      " 2000. 2000. 2000. 2000. 2000. 2000. 2000. 2000. 2000.]\n",
      "\n",
      "B-vectors\n",
      "[[ 0.00000e+00  0.00000e+00  0.00000e+00]\n",
      " [ 9.99995e-01  1.24976e-04  3.15977e-03]\n",
      " [ 0.00000e+00  9.36502e-01 -3.50661e-01]\n",
      " [-2.64213e-02  3.39801e-01 -9.40126e-01]\n",
      " [ 5.90918e-01 -8.05808e-01  3.85797e-02]\n",
      " [-2.36222e-01 -7.80953e-01 -5.78197e-01]\n",
      " [-8.93692e-01 -3.72680e-01 -2.49848e-01]\n",
      " [ 7.97781e-01 -8.84073e-02 -5.96431e-01]\n",
      " [ 2.34189e-01  7.70950e-01 -5.92277e-01]\n",
      " [ 9.36811e-01  1.66987e-02 -3.49437e-01]\n",
      " [ 5.05272e-01 -7.26893e-01  4.65110e-01]\n",
      " [ 3.45583e-01 -6.49254e-01  6.77526e-01]\n",
      " [ 4.55910e-01 -3.67761e-01  8.10492e-01]\n",
      " [-4.87652e-01 -6.41634e-01 -5.92032e-01]\n",
      " [-6.19380e-01  4.86263e-01 -6.16374e-01]\n",
      " [-5.75526e-01  1.87982e-01  7.95885e-01]\n",
      " [-8.26696e-01 -5.62507e-01 -1.26255e-02]\n",
      " [ 8.92576e-01  1.19867e-01  4.34672e-01]\n",
      " [ 2.89029e-01 -2.26434e-01  9.30156e-01]\n",
      " [ 1.15961e-01 -8.12412e-01  5.71437e-01]\n",
      " [-7.99172e-01  5.34034e-01  2.75920e-01]\n",
      " [ 5.14561e-01  7.25597e-01 -4.56876e-01]\n",
      " [-7.87422e-01  3.53224e-01  5.05173e-01]\n",
      " [ 9.49571e-01 -2.92712e-01 -1.12407e-01]\n",
      " [ 2.33560e-01  5.29755e-01 -8.15358e-01]]\n"
     ]
    }
   ],
   "source": [
    "# perhaps look into the values to see is single or multishell acq?\n",
    "print('')\n",
    "print('Take a look at the gradients:')\n",
    "print('Are these data single or multi-shell?')\n",
    "print('B-values')\n",
    "print(gtab.bvals)\n",
    "\n",
    "# not bad to see the directions as well\n",
    "print('')\n",
    "print('B-vectors')\n",
    "print(gtab.bvecs[:25, :])\n"
   ]
  },
  {
   "cell_type": "code",
   "execution_count": null,
   "id": "ba5772e9-4d55-42d6-b1e4-48dce92be642",
   "metadata": {},
   "outputs": [],
   "source": []
  },
  {
   "cell_type": "code",
   "execution_count": null,
   "id": "3366973f-9c9e-4ec1-a4b5-ab1cb10c139a",
   "metadata": {},
   "outputs": [],
   "source": []
  },
  {
   "cell_type": "code",
   "execution_count": null,
   "id": "574391ce-e6a4-4786-87a6-213b20ee5694",
   "metadata": {},
   "outputs": [],
   "source": []
  },
  {
   "cell_type": "code",
   "execution_count": null,
   "id": "7866b468-a238-4323-846e-f2aace5d1f34",
   "metadata": {},
   "outputs": [],
   "source": []
  }
 ],
 "metadata": {
  "kernelspec": {
   "display_name": "Python 3 (ipykernel)",
   "language": "python",
   "name": "python3"
  },
  "language_info": {
   "codemirror_mode": {
    "name": "ipython",
    "version": 3
   },
   "file_extension": ".py",
   "mimetype": "text/x-python",
   "name": "python",
   "nbconvert_exporter": "python",
   "pygments_lexer": "ipython3",
   "version": "3.10.14"
  }
 },
 "nbformat": 4,
 "nbformat_minor": 5
}
