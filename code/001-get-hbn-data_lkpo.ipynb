{
 "cells": [
  {
   "cell_type": "markdown",
   "id": "a967f55a-80bc-4def-a24c-11e187915619",
   "metadata": {},
   "source": [
    "# Getting Diffusion Data\n",
    "Following `/curriculum/rokem-benson-datashowcase/005-hbn.ipynb`"
   ]
  },
  {
   "cell_type": "code",
   "execution_count": 2,
   "id": "ec60621a-7417-4416-985e-c6d6af6edca2",
   "metadata": {},
   "outputs": [],
   "source": [
    "from pathlib import Path\n",
    "from cloudpathlib import S3Path, S3Client\n",
    "\n",
    "# Make the path object:\n",
    "cache_path = Path('/tmp/cache/')\n",
    "\n",
    "# Just because we have made a cache path object doesn't mean that the directory\n",
    "# we made exists; here we check if it exists and make the directory if not.\n",
    "if not cache_path.exists():\n",
    "    cache_path.mkdir()\n",
    "\n",
    "# Make the path object for the BIDs data folder:\n",
    "cache_path = Path('/tmp/cache/data')\n",
    "\n",
    "if not cache_path.exists():\n",
    "    cache_path.mkdir()"
   ]
  },
  {
   "cell_type": "code",
   "execution_count": 3,
   "id": "14264ec0-8b36-43d4-9cbd-e9b0b71b7566",
   "metadata": {},
   "outputs": [],
   "source": [
    "from utilities import ls, crawl\n",
    "import nibabel as nib"
   ]
  },
  {
   "cell_type": "code",
   "execution_count": 4,
   "id": "bede222b-e4bb-45dd-9af2-6659e61ee2a0",
   "metadata": {},
   "outputs": [],
   "source": [
    "client = S3Client(\n",
    "    local_cache_dir=cache_path,\n",
    "    no_sign_request=True)\n",
    "\n",
    "hbn_base_path = S3Path(\n",
    "    \"s3://fcp-indi/\",\n",
    "    client=client)"
   ]
  },
  {
   "cell_type": "code",
   "execution_count": 5,
   "id": "28796d48-3493-43ee-8116-1cb364fd0b80",
   "metadata": {
    "scrolled": true
   },
   "outputs": [
    {
     "data": {
      "text/plain": [
       "[S3Path('s3://fcp-indi/TEST_DATABASE'),\n",
       " S3Path('s3://fcp-indi/TEST_STS'),\n",
       " S3Path('s3://fcp-indi/TEST_USER_ACCESS'),\n",
       " S3Path('s3://fcp-indi/data'),\n",
       " S3Path('s3://fcp-indi/resources'),\n",
       " S3Path('s3://fcp-indi/fcp-indi_TEST.csv'),\n",
       " S3Path('s3://fcp-indi/index.html')]"
      ]
     },
     "execution_count": 5,
     "metadata": {},
     "output_type": "execute_result"
    }
   ],
   "source": [
    "ls(hbn_base_path)"
   ]
  },
  {
   "cell_type": "code",
   "execution_count": 6,
   "id": "8ec24c88-b630-4277-acb9-ae9af9d78d6c",
   "metadata": {},
   "outputs": [],
   "source": [
    "#hbn_raw_path = hbn_base_path / \"data\" / \"Projects\" / \"HBN\" / \"MRI\" / \"Site-CBIC\"\n",
    "hbn_raw_path = hbn_base_path / \"data\" / \"Projects\" / \"HBN\" / \"BIDS_curated\"\n",
    "#crawl(hbn_raw_path)\n",
    "#ls(hbn_raw_path)\n",
    "# The data can be explored under https://fcp-indi.s3.amazonaws.com/index.html#data/Projects/HBN/MRI/Site-CBIC/"
   ]
  },
  {
   "cell_type": "code",
   "execution_count": 7,
   "id": "a1fa2c81-5835-43a1-98b9-5f7dfa383eab",
   "metadata": {
    "scrolled": true
   },
   "outputs": [
    {
     "name": "stdout",
     "output_type": "stream",
     "text": [
      "s3://fcp-indi/data/Projects/HBN/BIDS_curated\n",
      "sub-NDARAA948VFH\n",
      "   ses-HBNsiteRU\n",
      "      anat\n",
      "         sub-NDARAA948VFH_ses-HBNsiteRU_acq-HCP_T1w.json\n",
      "         sub-NDARAA948VFH_ses-HBNsiteRU_acq-HCP_T1w.nii.gz\n",
      "      dwi\n",
      "         sub-NDARAA948VFH_ses-HBNsiteRU_acq-64dir_dwi.bval\n",
      "         sub-NDARAA948VFH_ses-HBNsiteRU_acq-64dir_dwi.bvec\n",
      "         sub-NDARAA948VFH_ses-HBNsiteRU_acq-64dir_dwi.json\n",
      "         sub-NDARAA948VFH_ses-HBNsiteRU_acq-64dir_dwi.nii.gz\n",
      "      fmap\n",
      "         sub-NDARAA948VFH_ses-HBNsiteRU_acq-dwi_dir-AP_epi.json\n",
      "         sub-NDARAA948VFH_ses-HBNsiteRU_acq-dwi_dir-AP_epi.nii.gz\n",
      "         sub-NDARAA948VFH_ses-HBNsiteRU_acq-dwi_dir-PA_epi.json\n",
      "         sub-NDARAA948VFH_ses-HBNsiteRU_acq-dwi_dir-PA_epi.nii.gz\n",
      "         sub-NDARAA948VFH_ses-HBNsiteRU_acq-fMRI_dir-AP_epi.json\n",
      "         sub-NDARAA948VFH_ses-HBNsiteRU_acq-fMRI_dir-AP_epi.nii.gz\n",
      "         sub-NDARAA948VFH_ses-HBNsiteRU_acq-fMRI_dir-PA_epi.json\n",
      "         sub-NDARAA948VFH_ses-HBNsiteRU_acq-fMRI_dir-PA_epi.nii.gz\n",
      "sub-NDARAB055BPR\n",
      "   ses-HBNsiteRU\n",
      "      anat\n",
      "         sub-NDARAB055BPR_ses-HBNsiteRU_acq-HCP_T1w.nii.gz\n",
      "         sub-NDARAB055BPR_ses-HBNsiteRU_acq-HCP_T2w.nii.gz\n",
      "      dwi\n",
      "         sub-NDARAB055BPR_ses-HBNsiteRU_acq-64dir_dwi.bval\n",
      "         sub-NDARAB055BPR_ses-HBNsiteRU_acq-64dir_dwi.bvec\n",
      "         sub-NDARAB055BPR_ses-HBNsiteRU_acq-64dir_dwi.json\n",
      "         sub-NDARAB055BPR_ses-HBNsiteRU_acq-64dir_dwi.nii.gz\n",
      "      fmap\n",
      "         sub-NDARAB055BPR_ses-HBNsiteRU_acq-dwi_dir-AP_epi.json\n",
      "         sub-NDARAB055BPR_ses-HBNsiteRU_acq-dwi_dir-AP_epi.nii.gz\n",
      "         sub-NDARAB055BPR_ses-HBNsiteRU_acq-dwi_dir-PA_epi.json\n",
      "         sub-NDARAB055BPR_ses-HBNsiteRU_acq-dwi_dir-PA_epi.nii.gz\n",
      "         sub-NDARAB055BPR_ses-HBNsiteRU_acq-fMRI_dir-AP_epi.json\n",
      "         sub-NDARAB055BPR_ses-HBNsiteRU_acq-fMRI_dir-AP_epi.nii.gz\n",
      "         sub-NDARAB055BPR_ses-HBNsiteRU_acq-fMRI_dir-PA_epi.json\n",
      "         sub-NDARAB055BPR_ses-HBNsiteRU_acq-fMRI_dir-PA_epi.nii.gz\n"
     ]
    }
   ],
   "source": [
    "import os\n",
    "subjects = [\"sub-NDARAA948VFH\", \"sub-NDARAB055BPR\"]\n",
    "#no_subjects = ['sub-NDARAN229MTX', 'sub-NDARAA306NT2']\n",
    "print(hbn_raw_path)\n",
    "for subject in subjects: \n",
    "    sub_path = hbn_raw_path / f\"{subject}\"\n",
    "    crawl(sub_path)"
   ]
  },
  {
   "cell_type": "code",
   "execution_count": 9,
   "id": "1508b5f7-c8a9-4bff-8860-6a8820b44613",
   "metadata": {},
   "outputs": [],
   "source": [
    "# Define function to download data\n",
    "def crawl_and_download(s3_sub_path, local_sub_path):\n",
    "    for item in s3_sub_path.rglob('*'):\n",
    "        if item.is_file():\n",
    "            local_file_path = local_sub_path / item.relative_to(s3_sub_path)\n",
    "            if not local_file_path.parent.exists():\n",
    "                local_file_path.parent.mkdir(parents=True, exist_ok=True)\n",
    "            item.download_to(local_file_path)\n",
    "            print(f'Downloaded {item} to {local_file_path}')"
   ]
  },
  {
   "cell_type": "code",
   "execution_count": 10,
   "id": "c4f06b5d-fc8f-4261-bb9d-8cd68ab7bc2f",
   "metadata": {},
   "outputs": [
    {
     "name": "stdout",
     "output_type": "stream",
     "text": [
      "Downloaded s3://fcp-indi/data/Projects/HBN/BIDS_curated/sub-NDARAA948VFH/ses-HBNsiteRU/anat/sub-NDARAA948VFH_ses-HBNsiteRU_acq-HCP_T1w.json to /tmp/cache/data/sub-NDARAA948VFH/ses-HBNsiteRU/anat/sub-NDARAA948VFH_ses-HBNsiteRU_acq-HCP_T1w.json\n",
      "Downloaded s3://fcp-indi/data/Projects/HBN/BIDS_curated/sub-NDARAA948VFH/ses-HBNsiteRU/anat/sub-NDARAA948VFH_ses-HBNsiteRU_acq-HCP_T1w.nii.gz to /tmp/cache/data/sub-NDARAA948VFH/ses-HBNsiteRU/anat/sub-NDARAA948VFH_ses-HBNsiteRU_acq-HCP_T1w.nii.gz\n",
      "Downloaded s3://fcp-indi/data/Projects/HBN/BIDS_curated/sub-NDARAA948VFH/ses-HBNsiteRU/dwi/sub-NDARAA948VFH_ses-HBNsiteRU_acq-64dir_dwi.bval to /tmp/cache/data/sub-NDARAA948VFH/ses-HBNsiteRU/dwi/sub-NDARAA948VFH_ses-HBNsiteRU_acq-64dir_dwi.bval\n",
      "Downloaded s3://fcp-indi/data/Projects/HBN/BIDS_curated/sub-NDARAA948VFH/ses-HBNsiteRU/dwi/sub-NDARAA948VFH_ses-HBNsiteRU_acq-64dir_dwi.bvec to /tmp/cache/data/sub-NDARAA948VFH/ses-HBNsiteRU/dwi/sub-NDARAA948VFH_ses-HBNsiteRU_acq-64dir_dwi.bvec\n",
      "Downloaded s3://fcp-indi/data/Projects/HBN/BIDS_curated/sub-NDARAA948VFH/ses-HBNsiteRU/dwi/sub-NDARAA948VFH_ses-HBNsiteRU_acq-64dir_dwi.json to /tmp/cache/data/sub-NDARAA948VFH/ses-HBNsiteRU/dwi/sub-NDARAA948VFH_ses-HBNsiteRU_acq-64dir_dwi.json\n",
      "Downloaded s3://fcp-indi/data/Projects/HBN/BIDS_curated/sub-NDARAA948VFH/ses-HBNsiteRU/dwi/sub-NDARAA948VFH_ses-HBNsiteRU_acq-64dir_dwi.nii.gz to /tmp/cache/data/sub-NDARAA948VFH/ses-HBNsiteRU/dwi/sub-NDARAA948VFH_ses-HBNsiteRU_acq-64dir_dwi.nii.gz\n",
      "Downloaded s3://fcp-indi/data/Projects/HBN/BIDS_curated/sub-NDARAA948VFH/ses-HBNsiteRU/fmap/sub-NDARAA948VFH_ses-HBNsiteRU_acq-dwi_dir-AP_epi.json to /tmp/cache/data/sub-NDARAA948VFH/ses-HBNsiteRU/fmap/sub-NDARAA948VFH_ses-HBNsiteRU_acq-dwi_dir-AP_epi.json\n",
      "Downloaded s3://fcp-indi/data/Projects/HBN/BIDS_curated/sub-NDARAA948VFH/ses-HBNsiteRU/fmap/sub-NDARAA948VFH_ses-HBNsiteRU_acq-dwi_dir-AP_epi.nii.gz to /tmp/cache/data/sub-NDARAA948VFH/ses-HBNsiteRU/fmap/sub-NDARAA948VFH_ses-HBNsiteRU_acq-dwi_dir-AP_epi.nii.gz\n",
      "Downloaded s3://fcp-indi/data/Projects/HBN/BIDS_curated/sub-NDARAA948VFH/ses-HBNsiteRU/fmap/sub-NDARAA948VFH_ses-HBNsiteRU_acq-dwi_dir-PA_epi.json to /tmp/cache/data/sub-NDARAA948VFH/ses-HBNsiteRU/fmap/sub-NDARAA948VFH_ses-HBNsiteRU_acq-dwi_dir-PA_epi.json\n",
      "Downloaded s3://fcp-indi/data/Projects/HBN/BIDS_curated/sub-NDARAA948VFH/ses-HBNsiteRU/fmap/sub-NDARAA948VFH_ses-HBNsiteRU_acq-dwi_dir-PA_epi.nii.gz to /tmp/cache/data/sub-NDARAA948VFH/ses-HBNsiteRU/fmap/sub-NDARAA948VFH_ses-HBNsiteRU_acq-dwi_dir-PA_epi.nii.gz\n",
      "Downloaded s3://fcp-indi/data/Projects/HBN/BIDS_curated/sub-NDARAA948VFH/ses-HBNsiteRU/fmap/sub-NDARAA948VFH_ses-HBNsiteRU_acq-fMRI_dir-AP_epi.json to /tmp/cache/data/sub-NDARAA948VFH/ses-HBNsiteRU/fmap/sub-NDARAA948VFH_ses-HBNsiteRU_acq-fMRI_dir-AP_epi.json\n",
      "Downloaded s3://fcp-indi/data/Projects/HBN/BIDS_curated/sub-NDARAA948VFH/ses-HBNsiteRU/fmap/sub-NDARAA948VFH_ses-HBNsiteRU_acq-fMRI_dir-AP_epi.nii.gz to /tmp/cache/data/sub-NDARAA948VFH/ses-HBNsiteRU/fmap/sub-NDARAA948VFH_ses-HBNsiteRU_acq-fMRI_dir-AP_epi.nii.gz\n",
      "Downloaded s3://fcp-indi/data/Projects/HBN/BIDS_curated/sub-NDARAA948VFH/ses-HBNsiteRU/fmap/sub-NDARAA948VFH_ses-HBNsiteRU_acq-fMRI_dir-PA_epi.json to /tmp/cache/data/sub-NDARAA948VFH/ses-HBNsiteRU/fmap/sub-NDARAA948VFH_ses-HBNsiteRU_acq-fMRI_dir-PA_epi.json\n",
      "Downloaded s3://fcp-indi/data/Projects/HBN/BIDS_curated/sub-NDARAA948VFH/ses-HBNsiteRU/fmap/sub-NDARAA948VFH_ses-HBNsiteRU_acq-fMRI_dir-PA_epi.nii.gz to /tmp/cache/data/sub-NDARAA948VFH/ses-HBNsiteRU/fmap/sub-NDARAA948VFH_ses-HBNsiteRU_acq-fMRI_dir-PA_epi.nii.gz\n",
      "Downloaded s3://fcp-indi/data/Projects/HBN/BIDS_curated/sub-NDARAB055BPR/ses-HBNsiteRU/anat/sub-NDARAB055BPR_ses-HBNsiteRU_acq-HCP_T1w.nii.gz to /tmp/cache/data/sub-NDARAB055BPR/ses-HBNsiteRU/anat/sub-NDARAB055BPR_ses-HBNsiteRU_acq-HCP_T1w.nii.gz\n",
      "Downloaded s3://fcp-indi/data/Projects/HBN/BIDS_curated/sub-NDARAB055BPR/ses-HBNsiteRU/anat/sub-NDARAB055BPR_ses-HBNsiteRU_acq-HCP_T2w.nii.gz to /tmp/cache/data/sub-NDARAB055BPR/ses-HBNsiteRU/anat/sub-NDARAB055BPR_ses-HBNsiteRU_acq-HCP_T2w.nii.gz\n",
      "Downloaded s3://fcp-indi/data/Projects/HBN/BIDS_curated/sub-NDARAB055BPR/ses-HBNsiteRU/dwi/sub-NDARAB055BPR_ses-HBNsiteRU_acq-64dir_dwi.bval to /tmp/cache/data/sub-NDARAB055BPR/ses-HBNsiteRU/dwi/sub-NDARAB055BPR_ses-HBNsiteRU_acq-64dir_dwi.bval\n",
      "Downloaded s3://fcp-indi/data/Projects/HBN/BIDS_curated/sub-NDARAB055BPR/ses-HBNsiteRU/dwi/sub-NDARAB055BPR_ses-HBNsiteRU_acq-64dir_dwi.bvec to /tmp/cache/data/sub-NDARAB055BPR/ses-HBNsiteRU/dwi/sub-NDARAB055BPR_ses-HBNsiteRU_acq-64dir_dwi.bvec\n",
      "Downloaded s3://fcp-indi/data/Projects/HBN/BIDS_curated/sub-NDARAB055BPR/ses-HBNsiteRU/dwi/sub-NDARAB055BPR_ses-HBNsiteRU_acq-64dir_dwi.json to /tmp/cache/data/sub-NDARAB055BPR/ses-HBNsiteRU/dwi/sub-NDARAB055BPR_ses-HBNsiteRU_acq-64dir_dwi.json\n",
      "Downloaded s3://fcp-indi/data/Projects/HBN/BIDS_curated/sub-NDARAB055BPR/ses-HBNsiteRU/dwi/sub-NDARAB055BPR_ses-HBNsiteRU_acq-64dir_dwi.nii.gz to /tmp/cache/data/sub-NDARAB055BPR/ses-HBNsiteRU/dwi/sub-NDARAB055BPR_ses-HBNsiteRU_acq-64dir_dwi.nii.gz\n",
      "Downloaded s3://fcp-indi/data/Projects/HBN/BIDS_curated/sub-NDARAB055BPR/ses-HBNsiteRU/fmap/sub-NDARAB055BPR_ses-HBNsiteRU_acq-dwi_dir-AP_epi.json to /tmp/cache/data/sub-NDARAB055BPR/ses-HBNsiteRU/fmap/sub-NDARAB055BPR_ses-HBNsiteRU_acq-dwi_dir-AP_epi.json\n",
      "Downloaded s3://fcp-indi/data/Projects/HBN/BIDS_curated/sub-NDARAB055BPR/ses-HBNsiteRU/fmap/sub-NDARAB055BPR_ses-HBNsiteRU_acq-dwi_dir-AP_epi.nii.gz to /tmp/cache/data/sub-NDARAB055BPR/ses-HBNsiteRU/fmap/sub-NDARAB055BPR_ses-HBNsiteRU_acq-dwi_dir-AP_epi.nii.gz\n",
      "Downloaded s3://fcp-indi/data/Projects/HBN/BIDS_curated/sub-NDARAB055BPR/ses-HBNsiteRU/fmap/sub-NDARAB055BPR_ses-HBNsiteRU_acq-dwi_dir-PA_epi.json to /tmp/cache/data/sub-NDARAB055BPR/ses-HBNsiteRU/fmap/sub-NDARAB055BPR_ses-HBNsiteRU_acq-dwi_dir-PA_epi.json\n",
      "Downloaded s3://fcp-indi/data/Projects/HBN/BIDS_curated/sub-NDARAB055BPR/ses-HBNsiteRU/fmap/sub-NDARAB055BPR_ses-HBNsiteRU_acq-dwi_dir-PA_epi.nii.gz to /tmp/cache/data/sub-NDARAB055BPR/ses-HBNsiteRU/fmap/sub-NDARAB055BPR_ses-HBNsiteRU_acq-dwi_dir-PA_epi.nii.gz\n",
      "Downloaded s3://fcp-indi/data/Projects/HBN/BIDS_curated/sub-NDARAB055BPR/ses-HBNsiteRU/fmap/sub-NDARAB055BPR_ses-HBNsiteRU_acq-fMRI_dir-AP_epi.json to /tmp/cache/data/sub-NDARAB055BPR/ses-HBNsiteRU/fmap/sub-NDARAB055BPR_ses-HBNsiteRU_acq-fMRI_dir-AP_epi.json\n",
      "Downloaded s3://fcp-indi/data/Projects/HBN/BIDS_curated/sub-NDARAB055BPR/ses-HBNsiteRU/fmap/sub-NDARAB055BPR_ses-HBNsiteRU_acq-fMRI_dir-AP_epi.nii.gz to /tmp/cache/data/sub-NDARAB055BPR/ses-HBNsiteRU/fmap/sub-NDARAB055BPR_ses-HBNsiteRU_acq-fMRI_dir-AP_epi.nii.gz\n",
      "Downloaded s3://fcp-indi/data/Projects/HBN/BIDS_curated/sub-NDARAB055BPR/ses-HBNsiteRU/fmap/sub-NDARAB055BPR_ses-HBNsiteRU_acq-fMRI_dir-PA_epi.json to /tmp/cache/data/sub-NDARAB055BPR/ses-HBNsiteRU/fmap/sub-NDARAB055BPR_ses-HBNsiteRU_acq-fMRI_dir-PA_epi.json\n",
      "Downloaded s3://fcp-indi/data/Projects/HBN/BIDS_curated/sub-NDARAB055BPR/ses-HBNsiteRU/fmap/sub-NDARAB055BPR_ses-HBNsiteRU_acq-fMRI_dir-PA_epi.nii.gz to /tmp/cache/data/sub-NDARAB055BPR/ses-HBNsiteRU/fmap/sub-NDARAB055BPR_ses-HBNsiteRU_acq-fMRI_dir-PA_epi.nii.gz\n"
     ]
    }
   ],
   "source": [
    "for subject in subjects:\n",
    "    sub_path = hbn_raw_path / f\"{subject}\"\n",
    "    local_sub_path = cache_path / subject\n",
    "    crawl_and_download(sub_path, local_sub_path)"
   ]
  },
  {
   "cell_type": "code",
   "execution_count": null,
   "id": "d3de5888-0edd-4250-a3b9-63b03e2a6393",
   "metadata": {},
   "outputs": [],
   "source": [
    "# Download the dataset_description.json file to your '/tmp/cache/data' from the following link:\n",
    "#https://fcp-indi.s3.amazonaws.com/index.html#data/Projects/HBN/BIDS_curated/\n",
    "\n",
    "# Or create it yourself with the following information:\n",
    "#{\n",
    "#    \"Acknowledgements\": \"\",\n",
    "#    \"Authors\": [],\n",
    "#    \"BIDSVersion\": \"1.0.2\",\n",
    "#    \"DatasetDOI\": \"\",\n",
    "#    \"Funding\": [],\n",
    "#    \"HowToAcknowledge\": \"\",\n",
    "#    \"License\": \"\",\n",
    "#    \"Name\": \"RBC_HBN\",\n",
    "#    \"ReferencesAndLinks\": [],\n",
    "#    \"template\": \"project\"\n",
    "#}\n",
    "\n",
    "# Or copy the file under \"/code/dataset_description.json\" to your BIDS folder with subjects"
   ]
  },
  {
   "cell_type": "code",
   "execution_count": null,
   "id": "9746aefc-5cb6-4fb9-aa54-38ce57ebb5c6",
   "metadata": {},
   "outputs": [],
   "source": [
    "#since we can’t use Docker in JupyterHub, you can run this singularity code to build a container so we can eventually run QSIPrep\n",
    "#singularity build ./my-qsi-prep.sif docker://pennbbl/qsiprep:0.22.1"
   ]
  }
 ],
 "metadata": {
  "kernelspec": {
   "display_name": "Python 3 (ipykernel)",
   "language": "python",
   "name": "python3"
  },
  "language_info": {
   "codemirror_mode": {
    "name": "ipython",
    "version": 3
   },
   "file_extension": ".py",
   "mimetype": "text/x-python",
   "name": "python",
   "nbconvert_exporter": "python",
   "pygments_lexer": "ipython3",
   "version": "3.10.14"
  }
 },
 "nbformat": 4,
 "nbformat_minor": 5
}
