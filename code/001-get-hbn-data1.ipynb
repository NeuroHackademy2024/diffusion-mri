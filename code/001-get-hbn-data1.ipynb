{
 "cells": [
  {
   "cell_type": "markdown",
   "id": "a967f55a-80bc-4def-a24c-11e187915619",
   "metadata": {},
   "source": [
    "# Getting Diffusion Data\n",
    "Following `/curriculum/rokem-benson-datashowcase/005-hbn.ipynb`"
   ]
  },
  {
   "cell_type": "code",
   "execution_count": 16,
   "id": "ec60621a-7417-4416-985e-c6d6af6edca2",
   "metadata": {},
   "outputs": [],
   "source": [
    "from pathlib import Path\n",
    "\n",
    "# Make the path object:\n",
    "cache_path = Path('/tmp/cache')\n",
    "\n",
    "# Just because we have made a cache path object doesn't mean that the directory\n",
    "# we made exists; here we check if it exists and make the directory if not.\n",
    "if not cache_path.exists():\n",
    "    cache_path.mkdir()"
   ]
  },
  {
   "cell_type": "code",
   "execution_count": 17,
   "id": "14264ec0-8b36-43d4-9cbd-e9b0b71b7566",
   "metadata": {},
   "outputs": [],
   "source": [
    "from utilities import ls, crawl\n",
    "import nibabel as nib"
   ]
  },
  {
   "cell_type": "code",
   "execution_count": 18,
   "id": "bede222b-e4bb-45dd-9af2-6659e61ee2a0",
   "metadata": {},
   "outputs": [],
   "source": [
    "client = S3Client(\n",
    "    local_cache_dir=cache_path,\n",
    "    no_sign_request=True)\n",
    "\n",
    "hbn_base_path = S3Path(\n",
    "    \"s3://fcp-indi/\",\n",
    "    client=client)"
   ]
  },
  {
   "cell_type": "code",
   "execution_count": 19,
   "id": "28796d48-3493-43ee-8116-1cb364fd0b80",
   "metadata": {},
   "outputs": [
    {
     "data": {
      "text/plain": [
       "[S3Path('s3://fcp-indi/TEST_DATABASE'),\n",
       " S3Path('s3://fcp-indi/TEST_STS'),\n",
       " S3Path('s3://fcp-indi/TEST_USER_ACCESS'),\n",
       " S3Path('s3://fcp-indi/data'),\n",
       " S3Path('s3://fcp-indi/resources'),\n",
       " S3Path('s3://fcp-indi/fcp-indi_TEST.csv'),\n",
       " S3Path('s3://fcp-indi/index.html')]"
      ]
     },
     "execution_count": 19,
     "metadata": {},
     "output_type": "execute_result"
    }
   ],
   "source": [
    "ls(hbn_base_path)"
   ]
  },
  {
   "cell_type": "code",
   "execution_count": 42,
   "id": "8ec24c88-b630-4277-acb9-ae9af9d78d6c",
   "metadata": {},
   "outputs": [
    {
     "name": "stdout",
     "output_type": "stream",
     "text": [
      "sub-*\n"
     ]
    }
   ],
   "source": [
    "hbn_raw_path = hbn_base_path / \"data\" / \"Projects\" / \"HBN\" / \"MRI\" / \"Site-CBIC\" / \n",
    "#crawl(hbn_raw_path)\n",
    "ls(\n",
    "# The data can be explored under https://fcp-indi.s3.amazonaws.com/index.html#data/Projects/HBN/MRI/Site-CBIC/"
   ]
  },
  {
   "cell_type": "code",
   "execution_count": 44,
   "id": "d34aba18-45bd-4935-8ce2-b89e15f7f137",
   "metadata": {},
   "outputs": [
    {
     "name": "stdout",
     "output_type": "stream",
     "text": [
      "subject: sub-NDARAA948VFH\n",
      "sub-NDARAA948VFH\n",
      "   ses-HBNsiteRU\n",
      "      anat\n",
      "         sub-NDARAA948VFH_ses-HBNsiteRU_acq-HCP_T1w.json\n",
      "         sub-NDARAA948VFH_ses-HBNsiteRU_acq-HCP_T1w.nii.gz\n",
      "      dwi\n",
      "         sub-NDARAA948VFH_ses-HBNsiteRU_acq-64dir_dwi.bval\n",
      "         sub-NDARAA948VFH_ses-HBNsiteRU_acq-64dir_dwi.bvec\n",
      "         sub-NDARAA948VFH_ses-HBNsiteRU_acq-64dir_dwi.json\n",
      "         sub-NDARAA948VFH_ses-HBNsiteRU_acq-64dir_dwi.nii.gz\n",
      "      fmap\n",
      "         sub-NDARAA948VFH_ses-HBNsiteRU_acq-dwi_dir-AP_epi.json\n",
      "         sub-NDARAA948VFH_ses-HBNsiteRU_acq-dwi_dir-AP_epi.nii.gz\n",
      "         sub-NDARAA948VFH_ses-HBNsiteRU_acq-dwi_dir-PA_epi.json\n",
      "         sub-NDARAA948VFH_ses-HBNsiteRU_acq-dwi_dir-PA_epi.nii.gz\n",
      "         sub-NDARAA948VFH_ses-HBNsiteRU_acq-fMRI_dir-AP_epi.json\n",
      "         sub-NDARAA948VFH_ses-HBNsiteRU_acq-fMRI_dir-AP_epi.nii.gz\n",
      "         sub-NDARAA948VFH_ses-HBNsiteRU_acq-fMRI_dir-PA_epi.json\n",
      "         sub-NDARAA948VFH_ses-HBNsiteRU_acq-fMRI_dir-PA_epi.nii.gz\n",
      "subject: sub-NDARAB055BPR\n",
      "sub-NDARAB055BPR\n",
      "   ses-HBNsiteRU\n",
      "      anat\n",
      "         sub-NDARAB055BPR_ses-HBNsiteRU_acq-HCP_T1w.nii.gz\n",
      "         sub-NDARAB055BPR_ses-HBNsiteRU_acq-HCP_T2w.nii.gz\n",
      "      dwi\n",
      "         sub-NDARAB055BPR_ses-HBNsiteRU_acq-64dir_dwi.bval\n",
      "         sub-NDARAB055BPR_ses-HBNsiteRU_acq-64dir_dwi.bvec\n",
      "         sub-NDARAB055BPR_ses-HBNsiteRU_acq-64dir_dwi.json\n",
      "         sub-NDARAB055BPR_ses-HBNsiteRU_acq-64dir_dwi.nii.gz\n",
      "      fmap\n",
      "         sub-NDARAB055BPR_ses-HBNsiteRU_acq-dwi_dir-AP_epi.json\n",
      "         sub-NDARAB055BPR_ses-HBNsiteRU_acq-dwi_dir-AP_epi.nii.gz\n",
      "         sub-NDARAB055BPR_ses-HBNsiteRU_acq-dwi_dir-PA_epi.json\n",
      "         sub-NDARAB055BPR_ses-HBNsiteRU_acq-dwi_dir-PA_epi.nii.gz\n",
      "         sub-NDARAB055BPR_ses-HBNsiteRU_acq-fMRI_dir-AP_epi.json\n",
      "         sub-NDARAB055BPR_ses-HBNsiteRU_acq-fMRI_dir-AP_epi.nii.gz\n",
      "         sub-NDARAB055BPR_ses-HBNsiteRU_acq-fMRI_dir-PA_epi.json\n",
      "         sub-NDARAB055BPR_ses-HBNsiteRU_acq-fMRI_dir-PA_epi.nii.gz\n"
     ]
    }
   ],
   "source": [
    "subjects = ['sub-NDARAA948VFH', 'sub-NDARAB055BPR']\n",
    "#no_subjects = ['sub-NDARAN229MTX', 'sub-NDARAA306NT2']\n",
    "for subject in subjects: \n",
    "    print(f'subject: {subject}')\n",
    "    crawl(hbn_BIDScur_path / f\"{subject}\")"
   ]
  },
  {
   "cell_type": "code",
   "execution_count": 12,
   "id": "6f1edd82-3dd9-45db-9c2d-2eca1b596951",
   "metadata": {},
   "outputs": [],
   "source": [
    "for subject in ['100206']:\n",
    "    diffusion_sub = hcp_base_path / \"HCP_1200\" / f\"{subject}\" / \"T1w\" / \"Diffusion\" / \"data.nii.gz\"\n",
    "    img_sub = nib.load(diffusion_sub.fspath)"
   ]
  },
  {
   "cell_type": "code",
   "execution_count": 13,
   "id": "18ad0e4c-8d20-4f59-b8a3-b933c9522768",
   "metadata": {},
   "outputs": [],
   "source": [
    "sub_data = img_sub.get_fdata()"
   ]
  },
  {
   "cell_type": "code",
   "execution_count": null,
   "id": "99c9da61-f3cb-478c-b2a5-0981557e091f",
   "metadata": {},
   "outputs": [],
   "source": []
  }
 ],
 "metadata": {
  "kernelspec": {
   "display_name": "Python 3 (ipykernel)",
   "language": "python",
   "name": "python3"
  },
  "language_info": {
   "codemirror_mode": {
    "name": "ipython",
    "version": 3
   },
   "file_extension": ".py",
   "mimetype": "text/x-python",
   "name": "python",
   "nbconvert_exporter": "python",
   "pygments_lexer": "ipython3",
   "version": "3.10.14"
  }
 },
 "nbformat": 4,
 "nbformat_minor": 5
}
