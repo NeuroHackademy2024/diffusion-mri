{
 "cells": [
  {
   "cell_type": "markdown",
   "id": "a967f55a-80bc-4def-a24c-11e187915619",
   "metadata": {},
   "source": [
    "# Getting Diffusion Data\n",
    "Following `/curriculum/rokem-benson-datashowcase/005-hbn.ipynb`"
   ]
  },
  {
   "cell_type": "code",
   "execution_count": 1,
   "id": "ec60621a-7417-4416-985e-c6d6af6edca2",
   "metadata": {},
   "outputs": [],
   "source": [
    "from pathlib import Path\n",
    "from cloudpathlib import S3Path, S3Client\n",
    "\n",
    "# Make the path object:\n",
    "cache_path = Path('/tmp/cache')\n",
    "\n",
    "# Just because we have made a cache path object doesn't mean that the directory\n",
    "# we made exists; here we check if it exists and make the directory if not.\n",
    "if not cache_path.exists():\n",
    "    cache_path.mkdir()"
   ]
  },
  {
   "cell_type": "code",
   "execution_count": 2,
   "id": "14264ec0-8b36-43d4-9cbd-e9b0b71b7566",
   "metadata": {},
   "outputs": [],
   "source": [
    "from utilities import ls, crawl\n",
    "import nibabel as nib"
   ]
  },
  {
   "cell_type": "code",
   "execution_count": 3,
   "id": "bede222b-e4bb-45dd-9af2-6659e61ee2a0",
   "metadata": {},
   "outputs": [],
   "source": [
    "client = S3Client(\n",
    "    local_cache_dir=cache_path,\n",
    "    no_sign_request=True)\n",
    "\n",
    "hbn_base_path = S3Path(\n",
    "    \"s3://fcp-indi/\",\n",
    "    client=client)"
   ]
  },
  {
   "cell_type": "code",
   "execution_count": 4,
   "id": "28796d48-3493-43ee-8116-1cb364fd0b80",
   "metadata": {},
   "outputs": [
    {
     "data": {
      "text/plain": [
       "[S3Path('s3://fcp-indi/TEST_DATABASE'),\n",
       " S3Path('s3://fcp-indi/TEST_STS'),\n",
       " S3Path('s3://fcp-indi/TEST_USER_ACCESS'),\n",
       " S3Path('s3://fcp-indi/data'),\n",
       " S3Path('s3://fcp-indi/resources'),\n",
       " S3Path('s3://fcp-indi/fcp-indi_TEST.csv'),\n",
       " S3Path('s3://fcp-indi/index.html')]"
      ]
     },
     "execution_count": 4,
     "metadata": {},
     "output_type": "execute_result"
    }
   ],
   "source": [
    "ls(hbn_base_path)"
   ]
  },
  {
   "cell_type": "code",
   "execution_count": 14,
   "id": "8ec24c88-b630-4277-acb9-ae9af9d78d6c",
   "metadata": {},
   "outputs": [],
   "source": [
    "hbn_raw_path = hbn_base_path / \"data\" / \"Projects\" / \"HBN\" / \"MRI\" / \"Site-CBIC\"\n",
    "#crawl(hbn_raw_path)\n",
    "#ls(hbn_raw_path)\n",
    "# The data can be explored under https://fcp-indi.s3.amazonaws.com/index.html#data/Projects/HBN/MRI/Site-CBIC/"
   ]
  },
  {
   "cell_type": "code",
   "execution_count": 15,
   "id": "d34aba18-45bd-4935-8ce2-b89e15f7f137",
   "metadata": {},
   "outputs": [
    {
     "name": "stdout",
     "output_type": "stream",
     "text": [
      "subject: sub-NDARAA948VFH\n"
     ]
    },
    {
     "ename": "ValueError",
     "evalue": "Path 's3://fcp-indi/data/Projects/HBN/MRI/Site-CBIC/sub-NDARAA948VFH' is not a directory",
     "output_type": "error",
     "traceback": [
      "\u001b[0;31m---------------------------------------------------------------------------\u001b[0m",
      "\u001b[0;31mValueError\u001b[0m                                Traceback (most recent call last)",
      "Cell \u001b[0;32mIn[15], line 5\u001b[0m\n\u001b[1;32m      3\u001b[0m \u001b[38;5;28;01mfor\u001b[39;00m subject \u001b[38;5;129;01min\u001b[39;00m subjects: \n\u001b[1;32m      4\u001b[0m     \u001b[38;5;28mprint\u001b[39m(\u001b[38;5;124mf\u001b[39m\u001b[38;5;124m'\u001b[39m\u001b[38;5;124msubject: \u001b[39m\u001b[38;5;132;01m{\u001b[39;00msubject\u001b[38;5;132;01m}\u001b[39;00m\u001b[38;5;124m'\u001b[39m)\n\u001b[0;32m----> 5\u001b[0m     \u001b[43mls\u001b[49m\u001b[43m(\u001b[49m\u001b[43mhbn_raw_path\u001b[49m\u001b[43m \u001b[49m\u001b[38;5;241;43m/\u001b[39;49m\u001b[43m \u001b[49m\u001b[43msubject\u001b[49m\u001b[43m)\u001b[49m\n",
      "File \u001b[0;32m~/diffusion-mri/code/utilities.py:9\u001b[0m, in \u001b[0;36mls\u001b[0;34m(path)\u001b[0m\n\u001b[1;32m      7\u001b[0m \u001b[38;5;66;03m# If path is not a directory, raise an error:\u001b[39;00m\n\u001b[1;32m      8\u001b[0m \u001b[38;5;28;01mif\u001b[39;00m \u001b[38;5;129;01mnot\u001b[39;00m path\u001b[38;5;241m.\u001b[39mis_dir():\n\u001b[0;32m----> 9\u001b[0m     \u001b[38;5;28;01mraise\u001b[39;00m \u001b[38;5;167;01mValueError\u001b[39;00m(\u001b[38;5;124mf\u001b[39m\u001b[38;5;124m\"\u001b[39m\u001b[38;5;124mPath \u001b[39m\u001b[38;5;124m'\u001b[39m\u001b[38;5;132;01m{\u001b[39;00mpath\u001b[38;5;132;01m}\u001b[39;00m\u001b[38;5;124m'\u001b[39m\u001b[38;5;124m is not a directory\u001b[39m\u001b[38;5;124m\"\u001b[39m)\n\u001b[1;32m     10\u001b[0m \u001b[38;5;28;01melse\u001b[39;00m:\n\u001b[1;32m     11\u001b[0m     \u001b[38;5;28;01mreturn\u001b[39;00m \u001b[38;5;28mlist\u001b[39m(path\u001b[38;5;241m.\u001b[39miterdir())\n",
      "\u001b[0;31mValueError\u001b[0m: Path 's3://fcp-indi/data/Projects/HBN/MRI/Site-CBIC/sub-NDARAA948VFH' is not a directory"
     ]
    }
   ],
   "source": [
    "subjects = ['sub-NDARAA948VFH', 'sub-NDARAB055BPR']\n",
    "#no_subjects = ['sub-NDARAN229MTX', 'sub-NDARAA306NT2']\n",
    "for subject in subjects: \n",
    "    print(f'subject: {subject}')\n",
    "    ls(hbn_raw_path / subject)"
   ]
  },
  {
   "cell_type": "code",
   "execution_count": 12,
   "id": "6f1edd82-3dd9-45db-9c2d-2eca1b596951",
   "metadata": {},
   "outputs": [],
   "source": [
    "for subject in subjects:\n",
    "    diffusion_sub = hcp_base_path / \"HCP_1200\" / f\"{subject}\" / \"T1w\" / \"Diffusion\" / \"data.nii.gz\"\n",
    "    img_sub = nib.load(diffusion_sub.fspath)"
   ]
  },
  {
   "cell_type": "code",
   "execution_count": 13,
   "id": "18ad0e4c-8d20-4f59-b8a3-b933c9522768",
   "metadata": {},
   "outputs": [],
   "source": [
    "sub_data = img_sub.get_fdata()"
   ]
  },
  {
   "cell_type": "code",
   "execution_count": null,
   "id": "99c9da61-f3cb-478c-b2a5-0981557e091f",
   "metadata": {},
   "outputs": [],
   "source": []
  }
 ],
 "metadata": {
  "kernelspec": {
   "display_name": "Python 3 (ipykernel)",
   "language": "python",
   "name": "python3"
  },
  "language_info": {
   "codemirror_mode": {
    "name": "ipython",
    "version": 3
   },
   "file_extension": ".py",
   "mimetype": "text/x-python",
   "name": "python",
   "nbconvert_exporter": "python",
   "pygments_lexer": "ipython3",
   "version": "3.10.14"
  }
 },
 "nbformat": 4,
 "nbformat_minor": 5
}
